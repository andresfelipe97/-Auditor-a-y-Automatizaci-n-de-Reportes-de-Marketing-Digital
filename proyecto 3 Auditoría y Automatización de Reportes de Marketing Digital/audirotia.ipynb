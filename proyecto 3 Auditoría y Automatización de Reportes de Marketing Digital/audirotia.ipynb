{
 "cells": [
  {
   "cell_type": "code",
   "execution_count": 34,
   "id": "fd1d0b0e",
   "metadata": {},
   "outputs": [],
   "source": [
    "import pandas as pd\n",
    "\n",
    "google = pd.read_csv(\"./google_ads.csv\")\n",
    "meta = pd.read_csv(\"./meta_ads.csv\")\n",
    "email= pd.read_csv(\"./email_marketing.csv\")"
   ]
  },
  {
   "cell_type": "code",
   "execution_count": 35,
   "id": "d2d0a14a",
   "metadata": {},
   "outputs": [
    {
     "name": "stdout",
     "output_type": "stream",
     "text": [
      "Google ads:\n",
      "                            campaign_id campaign_name        date  \\\n",
      "0  16a0a598-498c-4360-acbd-73fd5de3c96c    Campaña 10  2024-02-06   \n",
      "1  095727ce-b041-47b8-b4a3-5bdc81e9fb10    Campaña 10  2024-02-07   \n",
      "2  3aa3a3d5-b342-4fe1-b6c4-8e69f0924bef     Campaña 8  2024-02-23   \n",
      "3  d05b281b-deb2-4e0d-bd4e-b0fda784ad72     Campaña 6  2024-02-14   \n",
      "4  06f8ef35-9939-45bf-bc16-d02d1074940e     Campaña 1  2024-04-20   \n",
      "\n",
      "   impressions  clicks  cost_usd  \n",
      "0         8270     485       960  \n",
      "1         6390     156       171  \n",
      "2         6734     171       566  \n",
      "3         5426     137       472  \n",
      "4         9322     199       408  \n",
      "Meta ads:\n",
      "                            campaign_id campaign_name        date  reach  \\\n",
      "0  c6429538-73ff-40f3-a67d-dc003e56a08e     Campaña 4  2024-05-28   8756   \n",
      "1  bd845c3a-539f-4d71-a947-a31135448161     Campaña 8  2024-01-14   5577   \n",
      "2  9d3f8f33-20b7-4a3a-a16f-6c842ca14f82     Campaña 2  2024-04-22   7781   \n",
      "3  494ebf92-6259-4277-8295-25a4152cf1bd     Campaña 9  2024-01-01   7176   \n",
      "4  397bb085-fd64-4bd6-8951-3a5da04062bb     Campaña 3  2024-01-19   3393   \n",
      "\n",
      "   link_clicks  cost_usd  \n",
      "0           34       545  \n",
      "1          346       613  \n",
      "2           30       724  \n",
      "3           41       425  \n",
      "4          107       809  \n",
      "Email ads:\n",
      "                            campaign_id campaign_name        date  recipients  \\\n",
      "0  c3cf3143-9687-44c2-8705-90545db1bb91     Campaña 6  2024-02-28        4788   \n",
      "1  c181f3cb-7aca-4319-84d4-1558689832eb     Campaña 6  2024-03-17        9465   \n",
      "2  8c97e730-984b-417e-a9ce-8fdb15949dfe     Campaña 2  2024-02-29        2389   \n",
      "3  bdc08e56-3658-42be-b334-a2464dce59cf     Campaña 5  2024-03-22        9357   \n",
      "4  7ecb2412-75d4-429c-97f9-d3bee82ff737     Campaña 2  2024-03-23        6420   \n",
      "\n",
      "   opens  clicks  \n",
      "0   2968     101  \n",
      "1   2213     349  \n",
      "2   3766     124  \n",
      "3   1767      40  \n",
      "4    928     318  \n"
     ]
    }
   ],
   "source": [
    "print(\"Google ads:\")\n",
    "print(google.head())\n",
    "print(\"Meta ads:\")\n",
    "print(meta.head())\n",
    "print(\"Email ads:\")\n",
    "print(email.head())"
   ]
  },
  {
   "cell_type": "markdown",
   "id": "69b71587",
   "metadata": {},
   "source": [
    "Paso 2: Agregar columna 'canal' a cada dataset"
   ]
  },
  {
   "cell_type": "code",
   "execution_count": 36,
   "id": "5c1d4f2e",
   "metadata": {},
   "outputs": [],
   "source": [
    "google['canal']= \"Google ads\"\n",
    "meta['canal']  = \"Meta ads\"\n",
    "email['canal'] = \"Email marketing\""
   ]
  },
  {
   "cell_type": "markdown",
   "id": "353ed62c",
   "metadata": {},
   "source": [
    "Paso 3: Homogeneizar columnas"
   ]
  },
  {
   "cell_type": "code",
   "execution_count": 37,
   "id": "745cd301",
   "metadata": {},
   "outputs": [],
   "source": [
    "# Renombrar columnas para consistencia\n",
    "google.rename(columns={\"impressions\": \"impresiones\", \"clicks\": \"clics\", \"cost_usd\": \"costo\"}, inplace=True)\n",
    "meta.rename(columns={\"reach\": \"impresiones\", \"link_clicks\": \"clics\", \"cost_usd\": \"costo\"}, inplace=True)\n",
    "email.rename(columns={\"recipients\": \"impresiones\", \"opens\": \"aperturas\", \"clicks\": \"clics\"}, inplace=True)\n",
    "\n",
    "# Agregar columna vacía de 'aperturas' donde no aplica\n",
    "google[\"aperturas\"] = None\n",
    "meta[\"aperturas\"] = None\n",
    "email[\"costo\"] = None  # Supondremos que el envío de emails no tiene costo directo\n",
    "\n",
    "# Asegurar formato de fecha\n",
    "google[\"date\"] = pd.to_datetime(google[\"date\"])\n",
    "meta[\"date\"] = pd.to_datetime(meta[\"date\"])\n",
    "email[\"date\"] = pd.to_datetime(email[\"date\"])\n"
   ]
  },
  {
   "cell_type": "markdown",
   "id": "1882b0aa",
   "metadata": {},
   "source": [
    "Paso 4: Unir todos los datasets"
   ]
  },
  {
   "cell_type": "code",
   "execution_count": 38,
   "id": "60437446",
   "metadata": {},
   "outputs": [
    {
     "data": {
      "text/html": [
       "<div>\n",
       "<style scoped>\n",
       "    .dataframe tbody tr th:only-of-type {\n",
       "        vertical-align: middle;\n",
       "    }\n",
       "\n",
       "    .dataframe tbody tr th {\n",
       "        vertical-align: top;\n",
       "    }\n",
       "\n",
       "    .dataframe thead th {\n",
       "        text-align: right;\n",
       "    }\n",
       "</style>\n",
       "<table border=\"1\" class=\"dataframe\">\n",
       "  <thead>\n",
       "    <tr style=\"text-align: right;\">\n",
       "      <th></th>\n",
       "      <th>campaign_id</th>\n",
       "      <th>campaign_name</th>\n",
       "      <th>date</th>\n",
       "      <th>canal</th>\n",
       "      <th>impresiones</th>\n",
       "      <th>aperturas</th>\n",
       "      <th>clics</th>\n",
       "      <th>costo</th>\n",
       "    </tr>\n",
       "  </thead>\n",
       "  <tbody>\n",
       "    <tr>\n",
       "      <th>0</th>\n",
       "      <td>16a0a598-498c-4360-acbd-73fd5de3c96c</td>\n",
       "      <td>Campaña 10</td>\n",
       "      <td>2024-02-06</td>\n",
       "      <td>Google ads</td>\n",
       "      <td>8270</td>\n",
       "      <td>None</td>\n",
       "      <td>485</td>\n",
       "      <td>960</td>\n",
       "    </tr>\n",
       "    <tr>\n",
       "      <th>1</th>\n",
       "      <td>095727ce-b041-47b8-b4a3-5bdc81e9fb10</td>\n",
       "      <td>Campaña 10</td>\n",
       "      <td>2024-02-07</td>\n",
       "      <td>Google ads</td>\n",
       "      <td>6390</td>\n",
       "      <td>None</td>\n",
       "      <td>156</td>\n",
       "      <td>171</td>\n",
       "    </tr>\n",
       "    <tr>\n",
       "      <th>2</th>\n",
       "      <td>3aa3a3d5-b342-4fe1-b6c4-8e69f0924bef</td>\n",
       "      <td>Campaña 8</td>\n",
       "      <td>2024-02-23</td>\n",
       "      <td>Google ads</td>\n",
       "      <td>6734</td>\n",
       "      <td>None</td>\n",
       "      <td>171</td>\n",
       "      <td>566</td>\n",
       "    </tr>\n",
       "    <tr>\n",
       "      <th>3</th>\n",
       "      <td>d05b281b-deb2-4e0d-bd4e-b0fda784ad72</td>\n",
       "      <td>Campaña 6</td>\n",
       "      <td>2024-02-14</td>\n",
       "      <td>Google ads</td>\n",
       "      <td>5426</td>\n",
       "      <td>None</td>\n",
       "      <td>137</td>\n",
       "      <td>472</td>\n",
       "    </tr>\n",
       "    <tr>\n",
       "      <th>4</th>\n",
       "      <td>06f8ef35-9939-45bf-bc16-d02d1074940e</td>\n",
       "      <td>Campaña 1</td>\n",
       "      <td>2024-04-20</td>\n",
       "      <td>Google ads</td>\n",
       "      <td>9322</td>\n",
       "      <td>None</td>\n",
       "      <td>199</td>\n",
       "      <td>408</td>\n",
       "    </tr>\n",
       "  </tbody>\n",
       "</table>\n",
       "</div>"
      ],
      "text/plain": [
       "                            campaign_id campaign_name       date       canal  \\\n",
       "0  16a0a598-498c-4360-acbd-73fd5de3c96c    Campaña 10 2024-02-06  Google ads   \n",
       "1  095727ce-b041-47b8-b4a3-5bdc81e9fb10    Campaña 10 2024-02-07  Google ads   \n",
       "2  3aa3a3d5-b342-4fe1-b6c4-8e69f0924bef     Campaña 8 2024-02-23  Google ads   \n",
       "3  d05b281b-deb2-4e0d-bd4e-b0fda784ad72     Campaña 6 2024-02-14  Google ads   \n",
       "4  06f8ef35-9939-45bf-bc16-d02d1074940e     Campaña 1 2024-04-20  Google ads   \n",
       "\n",
       "   impresiones aperturas  clics costo  \n",
       "0         8270      None    485   960  \n",
       "1         6390      None    156   171  \n",
       "2         6734      None    171   566  \n",
       "3         5426      None    137   472  \n",
       "4         9322      None    199   408  "
      ]
     },
     "execution_count": 38,
     "metadata": {},
     "output_type": "execute_result"
    }
   ],
   "source": [
    "columnas = [\"campaign_id\", \"campaign_name\", \"date\", \"canal\", \"impresiones\", \"aperturas\", \"clics\", \"costo\"]\n",
    "google = google[columnas]\n",
    "meta   = meta[columnas]\n",
    "email  = email[columnas]\n",
    "\n",
    "#concatenar dataset\n",
    "df_unificado = pd.concat([google,meta,email], ignore_index=True)\n",
    "\n",
    "#vista previa\n",
    "df_unificado.head()"
   ]
  },
  {
   "cell_type": "markdown",
   "id": "fa7c44a9",
   "metadata": {},
   "source": [
    "Paso 5: Verificar nulos y tipos"
   ]
  },
  {
   "cell_type": "code",
   "execution_count": null,
   "id": "4bae6e80",
   "metadata": {},
   "outputs": [],
   "source": [
    "#Nulos\n",
    "print(df_unificado.isnull().sum)\n",
    "\n",
    "#Tipo de datos\n",
    "print(df_unificado.dtypes)\n"
   ]
  },
  {
   "cell_type": "markdown",
   "id": "cbd7b4f2",
   "metadata": {},
   "source": [
    "## Fase 2: Transformación y KPIs"
   ]
  },
  {
   "cell_type": "code",
   "execution_count": 43,
   "id": "2ec38c29",
   "metadata": {},
   "outputs": [],
   "source": [
    "# Evitar división por cero\n",
    "df_unificado[\"impresiones\"] = df_unificado[\"impresiones\"].replace(0, pd.NA)\n",
    "df_unificado[\"clics\"] = df_unificado[\"clics\"].replace(0, pd.NA)\n",
    "\n",
    "# CTR (Tasa de clics)\n",
    "df_unificado[\"ctr\"] = df_unificado[\"clics\"]/ df_unificado[\"impresiones\"]\n",
    "\n",
    "#costo por clic \n",
    "df_unificado[\"cpc\"] = df_unificado[\"costo\"]/df_unificado[\"clics\"]"
   ]
  },
  {
   "cell_type": "markdown",
   "id": "e73fe1e4",
   "metadata": {},
   "source": [
    "Paso 2: Validación de datos sospechosos"
   ]
  },
  {
   "cell_type": "markdown",
   "id": "1f1b74e3",
   "metadata": {},
   "source": [
    "Campañas con CTR fuera de rango esperado (>0.5 o <0.005)"
   ]
  },
  {
   "cell_type": "code",
   "execution_count": 44,
   "id": "c732f22c",
   "metadata": {},
   "outputs": [],
   "source": [
    "ctr_Altos = df_unificado[df_unificado[\"ctr\"] > 0.5]\n",
    "cpc_Bajos = df_unificado[df_unificado[\"cpc\"] < 0.005]"
   ]
  },
  {
   "cell_type": "markdown",
   "id": "c7ab8873",
   "metadata": {},
   "source": [
    "Costos sin clics (puede indicar error o falta de datos)"
   ]
  },
  {
   "cell_type": "code",
   "execution_count": 47,
   "id": "d85bd812",
   "metadata": {},
   "outputs": [],
   "source": [
    "costos_sin_clics = df_unificado[(df_unificado[\"costo\"].notnull()) & (df_unificado[\"clics\"].isnull())]"
   ]
  },
  {
   "cell_type": "markdown",
   "id": "d1d719e8",
   "metadata": {},
   "source": [
    "Campañas duplicadas"
   ]
  },
  {
   "cell_type": "code",
   "execution_count": 48,
   "id": "6323235e",
   "metadata": {},
   "outputs": [],
   "source": [
    "duplicadas = df_unificado[df_unificado.duplicated([\"campaign_id\", \"date\", \"canal\"], keep=False)]\n"
   ]
  },
  {
   "cell_type": "markdown",
   "id": "703eeaa7",
   "metadata": {},
   "source": [
    "Paso 3: KPIs agregados por canal"
   ]
  },
  {
   "cell_type": "code",
   "execution_count": 58,
   "id": "694ce2c2",
   "metadata": {},
   "outputs": [
    {
     "name": "stdout",
     "output_type": "stream",
     "text": [
      "KPIs por canal:\n"
     ]
    }
   ],
   "source": [
    "# KPIs por canal\n",
    "kpis_por_canal = df_unificado.groupby(\"canal\").agg({\n",
    "    \"impresiones\": \"sum\",\n",
    "    \"clics\": \"sum\",\n",
    "    \"costo\": \"sum\"\n",
    "}).reset_index()\n",
    "\n",
    "# Calcular KPIs derivados\n",
    "kpis_por_canal[\"ctr_promedio\"] = kpis_por_canal[\"clics\"] / kpis_por_canal[\"impresiones\"]\n",
    "kpis_por_canal[\"cpc_promedio\"] = kpis_por_canal[\"costo\"] / kpis_por_canal[\"clics\"]\n",
    "\n",
    "print(\"KPIs por canal:\")"
   ]
  },
  {
   "cell_type": "markdown",
   "id": "905d9293",
   "metadata": {},
   "source": [
    "Paso 4: Top 5 campañas con mejor CTR"
   ]
  },
  {
   "cell_type": "code",
   "execution_count": 57,
   "id": "f04db8be",
   "metadata": {},
   "outputs": [
    {
     "name": "stdout",
     "output_type": "stream",
     "text": [
      "    campaign_name            canal       ctr  impresiones  clics\n",
      "335    Campaña 10         Meta ads  0.436025          805    351\n",
      "337     Campaña 6         Meta ads  0.434024          917    398\n",
      "12      Campaña 2       Google ads  0.416316         1189    495\n",
      "455     Campaña 2         Meta ads  0.406178          874    355\n",
      "626     Campaña 5  Email marketing  0.403526         1021    412\n"
     ]
    }
   ],
   "source": [
    "top_ctr = df_unificado[df_unificado[\"ctr\"].notnull()].sort_values(\"ctr\", ascending=False).head(5)\n",
    "print(top_ctr[[\"campaign_name\", \"canal\", \"ctr\", \"impresiones\", \"clics\"]])\n"
   ]
  },
  {
   "cell_type": "markdown",
   "id": "c898cba4",
   "metadata": {},
   "source": [
    "Paso 5: Exportar archivos para Power BI"
   ]
  },
  {
   "cell_type": "code",
   "execution_count": 59,
   "id": "d8ed9a57",
   "metadata": {},
   "outputs": [],
   "source": [
    "# Datos consolidados\n",
    "df_unificado.to_csv(\"df_campañas_limpias.csv\", index=False)\n",
    "\n",
    "# KPIs por canal\n",
    "kpis_por_canal.to_csv(\"kpis_campañas.csv\", index=False)\n",
    "\n",
    "# Exportar campañas con errores para auditoría\n",
    "costos_sin_clics.to_csv(\"campañas_con_errores.csv\", index=False)\n"
   ]
  }
 ],
 "metadata": {
  "kernelspec": {
   "display_name": "Python 3",
   "language": "python",
   "name": "python3"
  },
  "language_info": {
   "codemirror_mode": {
    "name": "ipython",
    "version": 3
   },
   "file_extension": ".py",
   "mimetype": "text/x-python",
   "name": "python",
   "nbconvert_exporter": "python",
   "pygments_lexer": "ipython3",
   "version": "3.13.2"
  }
 },
 "nbformat": 4,
 "nbformat_minor": 5
}
